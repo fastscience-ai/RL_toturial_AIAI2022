{
 "cells": [
  {
   "cell_type": "code",
   "execution_count": 1,
   "id": "49ea5628-2def-4305-aec1-32e342ee59cb",
   "metadata": {},
   "outputs": [],
   "source": [
    "import matplotlib.pyplot as plt\n",
    "import numpy as np\n",
    "import gym\n",
    "import tensorflow as tf\n",
    "from tensorflow import keras\n",
    "from tensorflow.keras.optimizers import Adam\n",
    "from tensorflow.keras.layers import Dense \n",
    "import tensorflow_probability as tfp"
   ]
  },
  {
   "cell_type": "code",
   "execution_count": 2,
   "id": "1c8caa41-4cd3-4be2-a4aa-64c75cb5d6e0",
   "metadata": {},
   "outputs": [],
   "source": [
    "class PolicyGradientNetwork(keras.Model):\n",
    "    def __init__(self, n_actions, fc1_dims=256, fc2_dims=256):\n",
    "        super(PolicyGradientNetwork, self).__init__()\n",
    "        self.fc1_dims = fc1_dims\n",
    "        self.fc2_dims = fc2_dims\n",
    "        self.n_actions = n_actions\n",
    "\n",
    "        self.fc1 = Dense(self.fc1_dims, activation='relu')\n",
    "        self.fc2 = Dense(self.fc2_dims, activation='relu')\n",
    "        self.pi = Dense(n_actions, activation='softmax')\n",
    "\n",
    "    def call(self, state):\n",
    "        value = self.fc1(state)\n",
    "        value = self.fc2(value)\n",
    "\n",
    "        pi = self.pi(value)\n",
    "\n",
    "        return pi"
   ]
  },
  {
   "cell_type": "code",
   "execution_count": 3,
   "id": "be0159bf-efd9-43e9-8576-0ad72f3d8e4e",
   "metadata": {},
   "outputs": [],
   "source": [
    "class Agent:\n",
    "    def __init__(self, alpha=0.003, gamma=0.99, n_actions=4,\n",
    "                 layer1_size=256, layer2_size=256):\n",
    "\n",
    "        self.gamma = gamma\n",
    "        self.lr = alpha\n",
    "        self.n_actions = n_actions\n",
    "        self.state_memory = []\n",
    "        self.action_memory = []\n",
    "        self.reward_memory = []\n",
    "        self.policy = PolicyGradientNetwork(n_actions=n_actions)\n",
    "        self.policy.compile(optimizer=Adam(learning_rate=self.lr))\n",
    "\n",
    "    def choose_action(self, observation):\n",
    "        state = tf.convert_to_tensor([observation], dtype=tf.float32)\n",
    "        probs = self.policy(state)\n",
    "        action_probs = tfp.distributions.Categorical(probs=probs)\n",
    "        action = action_probs.sample()\n",
    "\n",
    "        return action.numpy()[0]\n",
    "\n",
    "    def store_transition(self, observation, action, reward):\n",
    "        self.state_memory.append(observation)\n",
    "        self.action_memory.append(action)\n",
    "        self.reward_memory.append(reward)\n",
    "\n",
    "    def learn(self):\n",
    "        actions = tf.convert_to_tensor(self.action_memory, dtype=tf.float32)\n",
    "        rewards = np.array(self.reward_memory)\n",
    "\n",
    "        G = np.zeros_like(rewards)\n",
    "        for t in range(len(rewards)):\n",
    "            G_sum = 0\n",
    "            discount = 1\n",
    "            for k in range(t, len(rewards)):\n",
    "                G_sum += rewards[k] * discount\n",
    "                discount *= self.gamma\n",
    "            G[t] = G_sum\n",
    "        \n",
    "        with tf.GradientTape() as tape:\n",
    "            loss = 0\n",
    "            for idx, (g, state) in enumerate(zip(G, self.state_memory)):\n",
    "                state = tf.convert_to_tensor([state], dtype=tf.float32)\n",
    "                probs = self.policy(state)\n",
    "                action_probs = tfp.distributions.Categorical(probs=probs)\n",
    "                log_prob = action_probs.log_prob(actions[idx])\n",
    "                loss += -g * tf.squeeze(log_prob)\n",
    "\n",
    "        gradient = tape.gradient(loss, self.policy.trainable_variables)\n",
    "        self.policy.optimizer.apply_gradients(zip(gradient, self.policy.trainable_variables))\n",
    "\n",
    "        self.state_memory = []\n",
    "        self.action_memory = []\n",
    "        self.reward_memory = []"
   ]
  },
  {
   "cell_type": "code",
   "execution_count": 4,
   "id": "146b4272-0475-4a2f-9dcf-5db13dbc93c4",
   "metadata": {},
   "outputs": [],
   "source": [
    "def plotLearning(scores, filename, x=None, window=5):   \n",
    "    N = len(scores)\n",
    "    running_avg = np.empty(N)\n",
    "    for t in range(N):\n",
    "\t    running_avg[t] = np.mean(scores[max(0, t-window):(t+1)])\n",
    "    if x is None:\n",
    "        x = [i for i in range(N)]\n",
    "    plt.ylabel('Score')       \n",
    "    plt.xlabel('Game')                     \n",
    "    plt.plot(x, running_avg)\n",
    "    plt.savefig(filename)"
   ]
  },
  {
   "cell_type": "code",
   "execution_count": 6,
   "id": "b984c7cb-0da1-4a8f-bdfe-81e37132e6d3",
   "metadata": {},
   "outputs": [
    {
     "name": "stdout",
     "output_type": "stream",
     "text": [
      "episode:  0 score: -204.7 average score -204.7\n",
      "episode:  1000 score: -20.1 average score 2.9\n",
      "episode:  2000 score: 278.7 average score 153.0\n",
      "episode:  3000 score: -9.7 average score 166.8\n",
      "episode:  4000 score: 304.8 average score 213.3\n",
      "episode:  5000 score: 225.4 average score 121.7\n",
      "episode:  6000 score: 33.6 average score 258.0\n",
      "episode:  7000 score: -4.7 average score 187.0\n",
      "episode:  8000 score: 34.4 average score 201.3\n",
      "episode:  9000 score: 210.2 average score 198.7\n"
     ]
    },
    {
     "data": {
      "image/png": "[encoded data removed]",
      "text/plain": [
       "<Figure size 432x288 with 1 Axes>"
      ]
     },
     "metadata": {
      "needs_background": "light"
     },
     "output_type": "display_data"
    }
   ],
   "source": [
    "agent = Agent(alpha=0.0005,  gamma=0.99,n_actions=4)\n",
    "\n",
    "env = gym.make('LunarLander-v2')\n",
    "score_history = []\n",
    "\n",
    "num_episodes = 10000\n",
    "\n",
    "for i in range(num_episodes):\n",
    "    done = False\n",
    "    score = 0\n",
    "    observation = env.reset()\n",
    "    while not done:\n",
    "        action = agent.choose_action(observation)\n",
    "        observation_, reward, done, info = env.step(action)\n",
    "        agent.store_transition(observation, action, reward)\n",
    "        observation = observation_\n",
    "        score += reward\n",
    "    score_history.append(score)\n",
    "\n",
    "    agent.learn()\n",
    "    avg_score = np.mean(score_history[-100:])\n",
    "    if i %1000 == 0: \n",
    "        print('episode: ', i,'score: %.1f' % score,\n",
    "        'average score %.1f' % avg_score)\n",
    "\n",
    "filename = 'lunar-lander.png'\n",
    "plotLearning(score_history, filename=filename, window=100)"
   ]
  },
  {
   "cell_type": "code",
   "execution_count": null,
   "id": "5fc6d174-48c3-44d0-ae3b-909d44e47606",
   "metadata": {},
   "outputs": [],
   "source": []
  }
 ],
 "metadata": {
  "kernelspec": {
   "display_name": "Python 3 (ipykernel)",
   "language": "python",
   "name": "python3"
  },
  "language_info": {
   "codemirror_mode": {
    "name": "ipython",
    "version": 3
   },
   "file_extension": ".py",
   "mimetype": "text/x-python",
   "name": "python",
   "nbconvert_exporter": "python",
   "pygments_lexer": "ipython3",
   "version": "3.8.12"
  }
 },
 "nbformat": 4,
 "nbformat_minor": 5
}
