{
 "cells": [
  {
   "cell_type": "code",
   "execution_count": 1,
   "id": "996ffbe0-87a0-4e44-8b29-4dad482c03d5",
   "metadata": {},
   "outputs": [],
   "source": [
    "# OpenAI Gym environment\n",
    "import gym"
   ]
  },
  {
   "cell_type": "code",
   "execution_count": 2,
   "id": "204a08e5-b988-4829-bd93-111cfa7c9a0e",
   "metadata": {},
   "outputs": [],
   "source": [
    "env = gym.make('CartPole-v0')"
   ]
  },
  {
   "cell_type": "code",
   "execution_count": 3,
   "id": "ab0e590f-5066-4ea9-b2f5-67b36b697fbb",
   "metadata": {},
   "outputs": [
    {
     "name": "stdout",
     "output_type": "stream",
     "text": [
      "<TimeLimit<CartPoleEnv<CartPole-v0>>> [ 0.01647045 -0.01510949 -0.04695466  0.04658738]\n"
     ]
    }
   ],
   "source": [
    "observation = env.reset()\n",
    "print(env, observation)"
   ]
  },
  {
   "cell_type": "code",
   "execution_count": 4,
   "id": "475808a0-d6e6-46d0-9574-97b86900cb64",
   "metadata": {},
   "outputs": [
    {
     "name": "stdout",
     "output_type": "stream",
     "text": [
      "1 [ 0.01616826  0.18065321 -0.04602291 -0.26053262] 1.0 False {}\n"
     ]
    }
   ],
   "source": [
    "action = env.action_space.sample()\n",
    "observation, reward, done, info = env.step(action)\n",
    "print(action, observation, reward, done, info) #done: whether episode has been finished or not"
   ]
  },
  {
   "cell_type": "code",
   "execution_count": 5,
   "id": "6b21a63c-ff89-45d7-a1bb-864574a3642d",
   "metadata": {},
   "outputs": [
    {
     "name": "stdout",
     "output_type": "stream",
     "text": [
      "Episode finished after 25 timesteps\n",
      "Episode finished after 19 timesteps\n",
      "Episode finished after 14 timesteps\n",
      "Episode finished after 11 timesteps\n",
      "Episode finished after 15 timesteps\n",
      "Episode finished after 23 timesteps\n",
      "Episode finished after 13 timesteps\n",
      "Episode finished after 18 timesteps\n",
      "Episode finished after 17 timesteps\n",
      "Episode finished after 40 timesteps\n",
      "Episode finished after 17 timesteps\n",
      "Episode finished after 33 timesteps\n",
      "Episode finished after 43 timesteps\n",
      "Episode finished after 13 timesteps\n",
      "Episode finished after 28 timesteps\n",
      "Episode finished after 15 timesteps\n",
      "Episode finished after 12 timesteps\n",
      "Episode finished after 23 timesteps\n",
      "Episode finished after 24 timesteps\n",
      "Episode finished after 9 timesteps\n"
     ]
    }
   ],
   "source": [
    "for i_episode in range(20):\n",
    "    observation = env.reset()\n",
    "    for t in range(100):\n",
    "        env.render() #play video of episode playing \n",
    "        action = env.action_space.sample()\n",
    "        observation, reward, done, info = env.step(action)\n",
    "        if done:\n",
    "            print(\"Episode finished after {} timesteps\".format(t+1))\n",
    "            break\n",
    "env.close()"
   ]
  },
  {
   "cell_type": "code",
   "execution_count": 6,
   "id": "3bf200c5-54a2-4b16-ae12-e6b394dca5d7",
   "metadata": {},
   "outputs": [],
   "source": [
    "env = gym.make('LunarLander-v2')"
   ]
  },
  {
   "cell_type": "code",
   "execution_count": 8,
   "id": "1dd6aece-e385-4861-a1bc-866596f16649",
   "metadata": {},
   "outputs": [
    {
     "name": "stdout",
     "output_type": "stream",
     "text": [
      "0 [ 0.00729866  1.39566     0.36911434 -0.3519446  -0.00835902 -0.08275166\n",
      "  0.          0.        ] -1.320569985631323 False {}\n"
     ]
    }
   ],
   "source": [
    "action = env.action_space.sample()\n",
    "env.reset()\n",
    "observation, reward, done, info = env.step(action)\n",
    "print(action, observation, reward, done, info) #done: whether episode has been finished or not"
   ]
  },
  {
   "cell_type": "code",
   "execution_count": 10,
   "id": "7101db30-a348-4ff9-83a1-a25287c70d58",
   "metadata": {},
   "outputs": [
    {
     "name": "stdout",
     "output_type": "stream",
     "text": [
      "Episode finished after 72 timesteps\n",
      "Episode finished after 64 timesteps\n",
      "Episode finished after 82 timesteps\n",
      "Episode finished after 98 timesteps\n",
      "Episode finished after 78 timesteps\n",
      "Episode finished after 85 timesteps\n",
      "Episode finished after 99 timesteps\n",
      "Episode finished after 64 timesteps\n",
      "Episode finished after 78 timesteps\n",
      "Episode finished after 92 timesteps\n"
     ]
    }
   ],
   "source": [
    "for i_episode in range(20):\n",
    "    observation = env.reset()\n",
    "    for t in range(100):\n",
    "        env.render() #play video of episode playing \n",
    "        action = env.action_space.sample()\n",
    "        observation, reward, done, info = env.step(action)\n",
    "        if done:\n",
    "            print(\"Episode finished after {} timesteps\".format(t+1))\n",
    "            break\n",
    "env.close()"
   ]
  },
  {
   "cell_type": "code",
   "execution_count": null,
   "id": "e9fa486d-f92d-438c-a4d8-72ad5b997494",
   "metadata": {},
   "outputs": [],
   "source": []
  }
 ],
 "metadata": {
  "kernelspec": {
   "display_name": "Python 3 (ipykernel)",
   "language": "python",
   "name": "python3"
  },
  "language_info": {
   "codemirror_mode": {
    "name": "ipython",
    "version": 3
   },
   "file_extension": ".py",
   "mimetype": "text/x-python",
   "name": "python",
   "nbconvert_exporter": "python",
   "pygments_lexer": "ipython3",
   "version": "3.8.12"
  }
 },
 "nbformat": 4,
 "nbformat_minor": 5
}
