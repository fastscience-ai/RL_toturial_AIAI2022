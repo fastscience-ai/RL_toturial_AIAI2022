{
 "cells": [
  {
   "cell_type": "code",
   "execution_count": 1,
   "id": "996ffbe0-87a0-4e44-8b29-4dad482c03d5",
   "metadata": {},
   "outputs": [],
   "source": [
    "# OpenAI Gym environment\n",
    "import gym\n",
    "import numpy as np"
   ]
  },
  {
   "cell_type": "code",
   "execution_count": 2,
   "id": "204a08e5-b988-4829-bd93-111cfa7c9a0e",
   "metadata": {},
   "outputs": [
    {
     "name": "stdout",
     "output_type": "stream",
     "text": [
      "<OrderEnforcing<CubeCrash<CubeCrash-v0>>> (40, 32, 3) Discrete(3)\n",
      "0 0.0 False {}\n"
     ]
    }
   ],
   "source": [
    "env = gym.make('CubeCrash-v0')\n",
    "observation = env.reset()\n",
    "print(env, np.shape(observation), env.action_space)\n",
    "action = env.action_space.sample()\n",
    "observation, reward, done, info = env.step(action)\n",
    "print(action,  reward, done, info) #done: whether episode has been finished or not"
   ]
  },
  {
   "cell_type": "code",
   "execution_count": 3,
   "id": "6b21a63c-ff89-45d7-a1bb-864574a3642d",
   "metadata": {},
   "outputs": [
    {
     "name": "stdout",
     "output_type": "stream",
     "text": [
      "Episode finished after 35 timesteps\n",
      "Episode finished after 34 timesteps\n",
      "Episode finished after 29 timesteps\n",
      "Episode finished after 28 timesteps\n",
      "Episode finished after 29 timesteps\n",
      "Episode finished after 35 timesteps\n",
      "Episode finished after 26 timesteps\n",
      "Episode finished after 28 timesteps\n",
      "Episode finished after 28 timesteps\n",
      "Episode finished after 29 timesteps\n",
      "Episode finished after 35 timesteps\n",
      "Episode finished after 29 timesteps\n",
      "Episode finished after 28 timesteps\n",
      "Episode finished after 28 timesteps\n",
      "Episode finished after 29 timesteps\n",
      "Episode finished after 34 timesteps\n",
      "Episode finished after 29 timesteps\n",
      "Episode finished after 29 timesteps\n",
      "Episode finished after 14 timesteps\n",
      "Episode finished after 30 timesteps\n"
     ]
    }
   ],
   "source": [
    "for i_episode in range(20):\n",
    "    observation = env.reset()\n",
    "    for t in range(100):\n",
    "        env.render()\n",
    "        action = env.action_space.sample()\n",
    "        observation, reward, done, info = env.step(action)\n",
    "        if done:\n",
    "            print(\"Episode finished after {} timesteps\".format(t+1))\n",
    "            break\n",
    "env.close()"
   ]
  },
  {
   "cell_type": "code",
   "execution_count": null,
   "id": "e9fa486d-f92d-438c-a4d8-72ad5b997494",
   "metadata": {},
   "outputs": [],
   "source": []
  },
  {
   "cell_type": "code",
   "execution_count": null,
   "id": "c46d651a-4558-4da5-97ae-af75d43ccf37",
   "metadata": {},
   "outputs": [],
   "source": []
  },
  {
   "cell_type": "code",
   "execution_count": null,
   "id": "d7a7c7eb-fe08-470f-b9dc-dd96769b029a",
   "metadata": {},
   "outputs": [],
   "source": []
  }
 ],
 "metadata": {
  "kernelspec": {
   "display_name": "Python 3 (ipykernel)",
   "language": "python",
   "name": "python3"
  },
  "language_info": {
   "codemirror_mode": {
    "name": "ipython",
    "version": 3
   },
   "file_extension": ".py",
   "mimetype": "text/x-python",
   "name": "python",
   "nbconvert_exporter": "python",
   "pygments_lexer": "ipython3",
   "version": "3.8.12"
  }
 },
 "nbformat": 4,
 "nbformat_minor": 5
}
