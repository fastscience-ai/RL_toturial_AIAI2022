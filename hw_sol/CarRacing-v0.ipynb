{
 "cells": [
  {
   "cell_type": "code",
   "execution_count": 2,
   "id": "996ffbe0-87a0-4e44-8b29-4dad482c03d5",
   "metadata": {},
   "outputs": [],
   "source": [
    "# OpenAI Gym environment\n",
    "import gym\n",
    "import numpy as np"
   ]
  },
  {
   "cell_type": "code",
   "execution_count": 3,
   "id": "204a08e5-b988-4829-bd93-111cfa7c9a0e",
   "metadata": {},
   "outputs": [
    {
     "name": "stdout",
     "output_type": "stream",
     "text": [
      "Track generation: 1067..1342 -> 275-tiles track\n",
      "retry to generate track (normal if there are not manyinstances of this message)\n",
      "Track generation: 1116..1399 -> 283-tiles track\n",
      "<TimeLimit<CarRacing<CarRacing-v0>>> (96, 96, 3) Box([-1.  0.  0.], [1. 1. 1.], (3,), float32)\n",
      "[-0.3807969   0.10622093  0.66720706] 6.992198581560284 False {}\n"
     ]
    }
   ],
   "source": [
    "env = gym.make('CarRacing-v0')\n",
    "observation = env.reset()\n",
    "print(env, np.shape(observation), env.action_space)\n",
    "action = env.action_space.sample()\n",
    "observation, reward, done, info = env.step(action)\n",
    "print(action,  reward, done, info) #done: whether episode has been finished or not"
   ]
  },
  {
   "cell_type": "code",
   "execution_count": 4,
   "id": "6b21a63c-ff89-45d7-a1bb-864574a3642d",
   "metadata": {},
   "outputs": [
    {
     "name": "stdout",
     "output_type": "stream",
     "text": [
      "Track generation: 1227..1538 -> 311-tiles track\n",
      "Track generation: 1150..1445 -> 295-tiles track\n",
      "retry to generate track (normal if there are not manyinstances of this message)\n",
      "Track generation: 1083..1358 -> 275-tiles track\n",
      "Track generation: 1018..1283 -> 265-tiles track\n",
      "Track generation: 1139..1437 -> 298-tiles track\n",
      "Track generation: 1171..1468 -> 297-tiles track\n",
      "Track generation: 1072..1344 -> 272-tiles track\n",
      "Track generation: 954..1199 -> 245-tiles track\n",
      "retry to generate track (normal if there are not manyinstances of this message)\n",
      "Track generation: 1076..1348 -> 272-tiles track\n",
      "Track generation: 1072..1344 -> 272-tiles track\n",
      "Track generation: 1103..1383 -> 280-tiles track\n",
      "Track generation: 1001..1255 -> 254-tiles track\n",
      "Track generation: 1016..1281 -> 265-tiles track\n",
      "Track generation: 1206..1512 -> 306-tiles track\n",
      "Track generation: 1180..1479 -> 299-tiles track\n",
      "Track generation: 1159..1453 -> 294-tiles track\n",
      "Track generation: 1316..1649 -> 333-tiles track\n",
      "Track generation: 1173..1476 -> 303-tiles track\n",
      "Track generation: 1258..1576 -> 318-tiles track\n",
      "Track generation: 1142..1434 -> 292-tiles track\n",
      "retry to generate track (normal if there are not manyinstances of this message)\n",
      "Track generation: 994..1253 -> 259-tiles track\n",
      "Track generation: 973..1228 -> 255-tiles track\n",
      "Track generation: 1085..1360 -> 275-tiles track\n"
     ]
    }
   ],
   "source": [
    "for i_episode in range(20):\n",
    "    observation = env.reset()\n",
    "    for t in range(100):\n",
    "        env.render()\n",
    "        action = env.action_space.sample()\n",
    "        observation, reward, done, info = env.step(action)\n",
    "        if done:\n",
    "            print(\"Episode finished after {} timesteps\".format(t+1))\n",
    "            break\n",
    "env.close()"
   ]
  },
  {
   "cell_type": "code",
   "execution_count": null,
   "id": "e9fa486d-f92d-438c-a4d8-72ad5b997494",
   "metadata": {},
   "outputs": [],
   "source": []
  },
  {
   "cell_type": "code",
   "execution_count": null,
   "id": "c46d651a-4558-4da5-97ae-af75d43ccf37",
   "metadata": {},
   "outputs": [],
   "source": []
  },
  {
   "cell_type": "code",
   "execution_count": null,
   "id": "d7a7c7eb-fe08-470f-b9dc-dd96769b029a",
   "metadata": {},
   "outputs": [],
   "source": []
  }
 ],
 "metadata": {
  "kernelspec": {
   "display_name": "Python 3 (ipykernel)",
   "language": "python",
   "name": "python3"
  },
  "language_info": {
   "codemirror_mode": {
    "name": "ipython",
    "version": 3
   },
   "file_extension": ".py",
   "mimetype": "text/x-python",
   "name": "python",
   "nbconvert_exporter": "python",
   "pygments_lexer": "ipython3",
   "version": "3.8.12"
  }
 },
 "nbformat": 4,
 "nbformat_minor": 5
}
