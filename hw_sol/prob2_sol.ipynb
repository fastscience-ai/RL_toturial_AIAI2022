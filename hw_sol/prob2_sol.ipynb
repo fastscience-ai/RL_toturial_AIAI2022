{
 "cells": [
  {
   "cell_type": "code",
   "execution_count": 1,
   "id": "f23ebd71-e1bd-406a-9b15-0b4da77cce15",
   "metadata": {},
   "outputs": [],
   "source": [
    "import gym\n",
    "from stable_baselines3 import PPO\n",
    "from stable_baselines3.ppo.policies import MlpPolicy"
   ]
  },
  {
   "cell_type": "code",
   "execution_count": 2,
   "id": "6db4b525-d628-4349-bec8-777b1f8f04b3",
   "metadata": {},
   "outputs": [],
   "source": [
    "env = gym.make('CarRacing-v0')\n",
    "model = PPO(MlpPolicy, env, verbose=0)"
   ]
  },
  {
   "cell_type": "code",
   "execution_count": 3,
   "id": "d471773e-eaa3-4fec-9194-1702cf4500a2",
   "metadata": {},
   "outputs": [
    {
     "name": "stderr",
     "output_type": "stream",
     "text": [
      "/Users/sookim/miniconda3/envs/rl/lib/python3.8/site-packages/stable_baselines3/common/evaluation.py:65: UserWarning: Evaluation environment is not wrapped with a ``Monitor`` wrapper. This may result in reporting modified episode lengths and rewards, if other wrappers happen to modify these. Consider wrapping environment first with ``Monitor`` wrapper.\n",
      "  warnings.warn(\n"
     ]
    },
    {
     "name": "stdout",
     "output_type": "stream",
     "text": [
      "Track generation: 1107..1388 -> 281-tiles track\n",
      "Track generation: 1047..1313 -> 266-tiles track\n",
      "Track generation: 1236..1549 -> 313-tiles track\n",
      "Track generation: 1204..1519 -> 315-tiles track\n",
      "Track generation: 1131..1418 -> 287-tiles track\n",
      "Track generation: 1039..1303 -> 264-tiles track\n",
      "Track generation: 1095..1373 -> 278-tiles track\n",
      "Track generation: 1237..1550 -> 313-tiles track\n",
      "Track generation: 1160..1454 -> 294-tiles track\n",
      "Track generation: 1143..1433 -> 290-tiles track\n",
      "Track generation: 1206..1511 -> 305-tiles track\n"
     ]
    }
   ],
   "source": [
    "from stable_baselines3.common.evaluation import evaluate_policy\n",
    "#before training \n",
    "mean_reward, std_reward = evaluate_policy(model, env, n_eval_episodes=10)"
   ]
  },
  {
   "cell_type": "code",
   "execution_count": 4,
   "id": "1c665bb4-259f-4866-aceb-7b0a67fc89da",
   "metadata": {},
   "outputs": [
    {
     "name": "stdout",
     "output_type": "stream",
     "text": [
      "mean_reward:-34.90 +/- 31.32\n"
     ]
    }
   ],
   "source": [
    "print(f\"mean_reward:{mean_reward:.2f} +/- {std_reward:.2f}\")"
   ]
  },
  {
   "cell_type": "code",
   "execution_count": 5,
   "id": "44244669-3a5e-4ea6-8966-c86dab2ec233",
   "metadata": {},
   "outputs": [
    {
     "name": "stdout",
     "output_type": "stream",
     "text": [
      "Track generation: 1150..1448 -> 298-tiles track\n",
      "Track generation: 1090..1375 -> 285-tiles track\n",
      "Track generation: 1048..1314 -> 266-tiles track\n",
      "Track generation: 982..1239 -> 257-tiles track\n",
      "Track generation: 1197..1508 -> 311-tiles track\n",
      "Track generation: 1300..1629 -> 329-tiles track\n",
      "Track generation: 1270..1592 -> 322-tiles track\n",
      "Track generation: 1040..1311 -> 271-tiles track\n",
      "Track generation: 1176..1474 -> 298-tiles track\n",
      "Track generation: 1151..1443 -> 292-tiles track\n",
      "Track generation: 1132..1424 -> 292-tiles track\n",
      "Track generation: 1032..1294 -> 262-tiles track\n",
      "Track generation: 1167..1472 -> 305-tiles track\n",
      "Track generation: 1064..1342 -> 278-tiles track\n",
      "Track generation: 1263..1583 -> 320-tiles track\n",
      "Track generation: 1257..1575 -> 318-tiles track\n",
      "Track generation: 1172..1469 -> 297-tiles track\n",
      "Track generation: 1106..1395 -> 289-tiles track\n",
      "Track generation: 1144..1434 -> 290-tiles track\n",
      "Track generation: 1145..1436 -> 291-tiles track\n",
      "Track generation: 1120..1404 -> 284-tiles track\n",
      "Track generation: 1063..1371 -> 308-tiles track\n",
      "retry to generate track (normal if there are not manyinstances of this message)\n",
      "Track generation: 1059..1328 -> 269-tiles track\n",
      "Track generation: 1092..1369 -> 277-tiles track\n",
      "Track generation: 1049..1324 -> 275-tiles track\n",
      "Track generation: 1158..1452 -> 294-tiles track\n",
      "Track generation: 1120..1404 -> 284-tiles track\n",
      "Track generation: 1161..1455 -> 294-tiles track\n",
      "Track generation: 1239..1553 -> 314-tiles track\n",
      "Track generation: 1143..1433 -> 290-tiles track\n",
      "Track generation: 1056..1324 -> 268-tiles track\n",
      "Track generation: 1271..1593 -> 322-tiles track\n",
      "Track generation: 1128..1416 -> 288-tiles track\n",
      "retry to generate track (normal if there are not manyinstances of this message)\n",
      "Track generation: 1235..1548 -> 313-tiles track\n",
      "Track generation: 1054..1324 -> 270-tiles track\n",
      "retry to generate track (normal if there are not manyinstances of this message)\n",
      "Track generation: 1150..1442 -> 292-tiles track\n",
      "Track generation: 1105..1387 -> 282-tiles track\n",
      "Track generation: 1079..1353 -> 274-tiles track\n",
      "Track generation: 1004..1263 -> 259-tiles track\n",
      "retry to generate track (normal if there are not manyinstances of this message)\n",
      "Track generation: 1248..1564 -> 316-tiles track\n",
      "Track generation: 1120..1404 -> 284-tiles track\n",
      "Track generation: 1071..1343 -> 272-tiles track\n",
      "Track generation: 1099..1378 -> 279-tiles track\n",
      "Track generation: 1226..1537 -> 311-tiles track\n",
      "Track generation: 1145..1443 -> 298-tiles track\n",
      "Track generation: 1404..1759 -> 355-tiles track\n",
      "Track generation: 990..1247 -> 257-tiles track\n",
      "Track generation: 1168..1464 -> 296-tiles track\n",
      "Track generation: 1275..1598 -> 323-tiles track\n",
      "Track generation: 1107..1388 -> 281-tiles track\n",
      "Track generation: 1119..1403 -> 284-tiles track\n",
      "Track generation: 1108..1389 -> 281-tiles track\n",
      "Track generation: 1200..1504 -> 304-tiles track\n",
      "Track generation: 1193..1495 -> 302-tiles track\n",
      "Track generation: 975..1229 -> 254-tiles track\n",
      "Track generation: 1222..1533 -> 311-tiles track\n",
      "Track generation: 1203..1508 -> 305-tiles track\n",
      "Track generation: 1203..1508 -> 305-tiles track\n",
      "Track generation: 1114..1396 -> 282-tiles track\n",
      "Track generation: 1191..1493 -> 302-tiles track\n",
      "Track generation: 1128..1414 -> 286-tiles track\n",
      "Track generation: 1205..1511 -> 306-tiles track\n",
      "Track generation: 1183..1483 -> 300-tiles track\n",
      "Track generation: 1058..1327 -> 269-tiles track\n",
      "Track generation: 1163..1458 -> 295-tiles track\n",
      "Track generation: 1159..1453 -> 294-tiles track\n",
      "Track generation: 1174..1479 -> 305-tiles track\n",
      "Track generation: 972..1226 -> 254-tiles track\n",
      "Track generation: 1139..1427 -> 288-tiles track\n",
      "Track generation: 1224..1534 -> 310-tiles track\n",
      "Track generation: 1359..1703 -> 344-tiles track\n",
      "Track generation: 948..1189 -> 241-tiles track\n",
      "Track generation: 894..1126 -> 232-tiles track\n",
      "Track generation: 1087..1363 -> 276-tiles track\n",
      "Track generation: 1208..1514 -> 306-tiles track\n",
      "Track generation: 1236..1549 -> 313-tiles track\n",
      "Track generation: 1160..1454 -> 294-tiles track\n",
      "Track generation: 1100..1385 -> 285-tiles track\n",
      "Track generation: 1041..1313 -> 272-tiles track\n",
      "Track generation: 1193..1494 -> 301-tiles track\n",
      "Track generation: 1165..1461 -> 296-tiles track\n",
      "Track generation: 1160..1454 -> 294-tiles track\n",
      "Track generation: 1111..1393 -> 282-tiles track\n",
      "Track generation: 1073..1351 -> 278-tiles track\n",
      "Track generation: 1140..1436 -> 296-tiles track\n",
      "Track generation: 1083..1358 -> 275-tiles track\n",
      "Track generation: 1280..1604 -> 324-tiles track\n",
      "Track generation: 1223..1533 -> 310-tiles track\n",
      "Track generation: 966..1217 -> 251-tiles track\n",
      "Track generation: 1140..1429 -> 289-tiles track\n",
      "Track generation: 1051..1318 -> 267-tiles track\n",
      "Track generation: 1003..1264 -> 261-tiles track\n",
      "Track generation: 1216..1524 -> 308-tiles track\n",
      "Track generation: 1182..1490 -> 308-tiles track\n",
      "Track generation: 1125..1411 -> 286-tiles track\n",
      "Track generation: 1268..1589 -> 321-tiles track\n",
      "Track generation: 1072..1353 -> 281-tiles track\n",
      "Track generation: 1183..1483 -> 300-tiles track\n",
      "Track generation: 1137..1426 -> 289-tiles track\n",
      "Track generation: 1165..1460 -> 295-tiles track\n",
      "Track generation: 1274..1597 -> 323-tiles track\n",
      "Track generation: 1066..1345 -> 279-tiles track\n",
      "Track generation: 1062..1336 -> 274-tiles track\n",
      "Track generation: 1340..1679 -> 339-tiles track\n",
      "Track generation: 1034..1297 -> 263-tiles track\n",
      "Track generation: 1352..1698 -> 346-tiles track\n",
      "Track generation: 1176..1474 -> 298-tiles track\n",
      "Track generation: 1136..1424 -> 288-tiles track\n",
      "Track generation: 1159..1453 -> 294-tiles track\n",
      "Track generation: 1093..1370 -> 277-tiles track\n",
      "Track generation: 1136..1424 -> 288-tiles track\n",
      "Track generation: 989..1250 -> 261-tiles track\n",
      "Track generation: 1199..1507 -> 308-tiles track\n",
      "Track generation: 1103..1383 -> 280-tiles track\n",
      "Track generation: 1250..1567 -> 317-tiles track\n",
      "Track generation: 1325..1660 -> 335-tiles track\n",
      "Track generation: 1215..1523 -> 308-tiles track\n",
      "Track generation: 1252..1569 -> 317-tiles track\n",
      "Track generation: 1124..1409 -> 285-tiles track\n",
      "Track generation: 1330..1666 -> 336-tiles track\n",
      "Track generation: 1231..1543 -> 312-tiles track\n",
      "Track generation: 1119..1403 -> 284-tiles track\n",
      "Track generation: 1137..1436 -> 299-tiles track\n",
      "Track generation: 1147..1444 -> 297-tiles track\n",
      "Track generation: 1123..1408 -> 285-tiles track\n",
      "Track generation: 1292..1619 -> 327-tiles track\n",
      "Track generation: 1106..1393 -> 287-tiles track\n",
      "Track generation: 1120..1404 -> 284-tiles track\n",
      "Track generation: 1223..1533 -> 310-tiles track\n",
      "Track generation: 996..1249 -> 253-tiles track\n",
      "Track generation: 1112..1394 -> 282-tiles track\n",
      "Track generation: 1068..1345 -> 277-tiles track\n",
      "Track generation: 1242..1557 -> 315-tiles track\n",
      "Track generation: 1133..1420 -> 287-tiles track\n",
      "Track generation: 1045..1313 -> 268-tiles track\n",
      "retry to generate track (normal if there are not manyinstances of this message)\n",
      "Track generation: 1182..1481 -> 299-tiles track\n",
      "Track generation: 1044..1317 -> 273-tiles track\n",
      "Track generation: 1381..1730 -> 349-tiles track\n",
      "Track generation: 1151..1450 -> 299-tiles track\n",
      "Track generation: 1113..1403 -> 290-tiles track\n",
      "Track generation: 1125..1410 -> 285-tiles track\n",
      "Track generation: 1075..1355 -> 280-tiles track\n",
      "Track generation: 1183..1483 -> 300-tiles track\n",
      "Track generation: 1184..1484 -> 300-tiles track\n",
      "Track generation: 1041..1310 -> 269-tiles track\n",
      "Track generation: 1036..1299 -> 263-tiles track\n",
      "Track generation: 1090..1367 -> 277-tiles track\n",
      "Track generation: 1177..1475 -> 298-tiles track\n",
      "Track generation: 1230..1542 -> 312-tiles track\n",
      "Track generation: 1208..1523 -> 315-tiles track\n",
      "Track generation: 1152..1444 -> 292-tiles track\n",
      "Track generation: 1223..1533 -> 310-tiles track\n",
      "Track generation: 1147..1445 -> 298-tiles track\n",
      "Track generation: 1099..1385 -> 286-tiles track\n",
      "Track generation: 1151..1443 -> 292-tiles track\n",
      "Track generation: 1112..1394 -> 282-tiles track\n",
      "Track generation: 1155..1448 -> 293-tiles track\n",
      "Track generation: 1159..1463 -> 304-tiles track\n",
      "Track generation: 999..1261 -> 262-tiles track\n",
      "Track generation: 1223..1533 -> 310-tiles track\n",
      "Track generation: 1064..1340 -> 276-tiles track\n",
      "Track generation: 1119..1403 -> 284-tiles track\n",
      "Track generation: 1121..1405 -> 284-tiles track\n",
      "Track generation: 1038..1308 -> 270-tiles track\n",
      "Track generation: 1182..1489 -> 307-tiles track\n",
      "Track generation: 1207..1513 -> 306-tiles track\n",
      "Track generation: 1124..1409 -> 285-tiles track\n",
      "Track generation: 1053..1320 -> 267-tiles track\n",
      "Track generation: 1061..1333 -> 272-tiles track\n",
      "retry to generate track (normal if there are not manyinstances of this message)\n",
      "Track generation: 1040..1306 -> 266-tiles track\n",
      "retry to generate track (normal if there are not manyinstances of this message)\n",
      "Track generation: 1181..1480 -> 299-tiles track\n",
      "Track generation: 1057..1325 -> 268-tiles track\n",
      "Track generation: 1073..1344 -> 271-tiles track\n",
      "Track generation: 1049..1315 -> 266-tiles track\n",
      "Track generation: 1088..1364 -> 276-tiles track\n",
      "Track generation: 1214..1522 -> 308-tiles track\n",
      "Track generation: 1111..1393 -> 282-tiles track\n",
      "Track generation: 1097..1379 -> 282-tiles track\n",
      "retry to generate track (normal if there are not manyinstances of this message)\n",
      "Track generation: 1088..1364 -> 276-tiles track\n",
      "Track generation: 1127..1413 -> 286-tiles track\n",
      "Track generation: 1180..1479 -> 299-tiles track\n",
      "Track generation: 1148..1444 -> 296-tiles track\n",
      "Track generation: 1168..1464 -> 296-tiles track\n",
      "Track generation: 1134..1422 -> 288-tiles track\n",
      "Track generation: 1191..1498 -> 307-tiles track\n",
      "Track generation: 1200..1504 -> 304-tiles track\n",
      "Track generation: 1160..1454 -> 294-tiles track\n",
      "Track generation: 953..1199 -> 246-tiles track\n",
      "retry to generate track (normal if there are not manyinstances of this message)\n",
      "Track generation: 1029..1294 -> 265-tiles track\n",
      "retry to generate track (normal if there are not manyinstances of this message)\n",
      "Track generation: 1176..1474 -> 298-tiles track\n",
      "Track generation: 1235..1555 -> 320-tiles track\n",
      "Track generation: 1073..1345 -> 272-tiles track\n",
      "Track generation: 1286..1612 -> 326-tiles track\n",
      "Track generation: 1226..1536 -> 310-tiles track\n",
      "Track generation: 1119..1403 -> 284-tiles track\n",
      "Track generation: 1096..1374 -> 278-tiles track\n",
      "Track generation: 1027..1288 -> 261-tiles track\n",
      "Track generation: 1162..1455 -> 293-tiles track\n",
      "Track generation: 1194..1497 -> 303-tiles track\n",
      "Track generation: 955..1198 -> 243-tiles track\n",
      "Track generation: 1125..1411 -> 286-tiles track\n",
      "Track generation: 1199..1503 -> 304-tiles track\n",
      "Track generation: 1162..1465 -> 303-tiles track\n",
      "Track generation: 1070..1352 -> 282-tiles track\n",
      "retry to generate track (normal if there are not manyinstances of this message)\n",
      "Track generation: 1227..1538 -> 311-tiles track\n",
      "Track generation: 1184..1484 -> 300-tiles track\n",
      "Track generation: 1112..1394 -> 282-tiles track\n",
      "Track generation: 1280..1604 -> 324-tiles track\n",
      "Track generation: 1088..1364 -> 276-tiles track\n",
      "Track generation: 1188..1489 -> 301-tiles track\n",
      "Track generation: 986..1239 -> 253-tiles track\n",
      "retry to generate track (normal if there are not manyinstances of this message)\n",
      "Track generation: 1179..1477 -> 298-tiles track\n",
      "Track generation: 1198..1509 -> 311-tiles track\n",
      "Track generation: 1161..1455 -> 294-tiles track\n",
      "Track generation: 1050..1322 -> 272-tiles track\n",
      "Track generation: 1108..1389 -> 281-tiles track\n",
      "Track generation: 1135..1423 -> 288-tiles track\n",
      "Track generation: 1070..1345 -> 275-tiles track\n",
      "retry to generate track (normal if there are not manyinstances of this message)\n",
      "Track generation: 1047..1313 -> 266-tiles track\n",
      "Track generation: 1118..1402 -> 284-tiles track\n",
      "Track generation: 1088..1364 -> 276-tiles track\n",
      "Track generation: 1115..1398 -> 283-tiles track\n",
      "Track generation: 949..1195 -> 246-tiles track\n",
      "Track generation: 1191..1493 -> 302-tiles track\n",
      "Track generation: 1114..1404 -> 290-tiles track\n",
      "Track generation: 1310..1643 -> 333-tiles track\n",
      "Track generation: 1160..1454 -> 294-tiles track\n",
      "Track generation: 1331..1668 -> 337-tiles track\n",
      "Track generation: 1214..1522 -> 308-tiles track\n",
      "Track generation: 1120..1404 -> 284-tiles track\n",
      "Track generation: 1303..1632 -> 329-tiles track\n",
      "Track generation: 1149..1440 -> 291-tiles track\n"
     ]
    },
    {
     "data": {
      "text/plain": [
       "<stable_baselines3.ppo.ppo.PPO at 0x7fc6b880be20>"
      ]
     },
     "execution_count": 5,
     "metadata": {},
     "output_type": "execute_result"
    }
   ],
   "source": [
    "model.learn(total_timesteps=200000)"
   ]
  },
  {
   "cell_type": "code",
   "execution_count": 6,
   "id": "5b8f2ad8-1766-47f8-a9e9-6e6aa5b57c1b",
   "metadata": {},
   "outputs": [
    {
     "name": "stdout",
     "output_type": "stream",
     "text": [
      "Track generation: 1017..1283 -> 266-tiles track\n",
      "Track generation: 1310..1640 -> 330-tiles track\n",
      "Track generation: 1149..1440 -> 291-tiles track\n",
      "Track generation: 1245..1563 -> 318-tiles track\n",
      "Track generation: 1149..1445 -> 296-tiles track\n",
      "Track generation: 999..1253 -> 254-tiles track\n",
      "Track generation: 1267..1588 -> 321-tiles track\n",
      "Track generation: 1176..1474 -> 298-tiles track\n",
      "Track generation: 1240..1554 -> 314-tiles track\n",
      "Track generation: 1226..1536 -> 310-tiles track\n",
      "Track generation: 1094..1376 -> 282-tiles track\n",
      "retry to generate track (normal if there are not manyinstances of this message)\n",
      "Track generation: 1296..1624 -> 328-tiles track\n",
      "mean_reward:-93.26 +/- 0.56\n"
     ]
    }
   ],
   "source": [
    "#after training \n",
    "mean_reward, std_reward = evaluate_policy(model, env, n_eval_episodes=10)\n",
    "\n",
    "print(f\"mean_reward:{mean_reward:.2f} +/- {std_reward:.2f}\")"
   ]
  },
  {
   "cell_type": "code",
   "execution_count": 7,
   "id": "ac9e8711-2708-4c58-81d2-2b8bf6c77b4a",
   "metadata": {},
   "outputs": [
    {
     "name": "stderr",
     "output_type": "stream",
     "text": [
      "sh: Xvfb: command not found\n"
     ]
    }
   ],
   "source": [
    "import os\n",
    "os.system(\"Xvfb :1 -screen 0 1024x768x24 &\")\n",
    "os.environ['DISPLAY'] = ':1'\n",
    "import base64\n",
    "from pathlib import Path\n",
    "from IPython import display as ipythondisplay\n",
    "from stable_baselines3.common.vec_env import VecVideoRecorder, DummyVecEnv\n",
    "\n",
    "def record_video(env_id, model, video_length=500, prefix='', video_folder='videos/'):\n",
    "  \"\"\"\n",
    "  :param env_id: (str)\n",
    "  :param model: (RL model)\n",
    "  :param video_length: (int)\n",
    "  :param prefix: (str)\n",
    "  :param video_folder: (str)\n",
    "  \"\"\"\n",
    "  eval_env = DummyVecEnv([lambda: gym.make(env_id)])\n",
    "  # Start the video at step=0 and record 500 steps\n",
    "  eval_env = VecVideoRecorder(eval_env, video_folder=video_folder,\n",
    "                              record_video_trigger=lambda step: step == 0, video_length=video_length,\n",
    "                              name_prefix=prefix)\n",
    "\n",
    "  obs = eval_env.reset()\n",
    "  for _ in range(video_length):\n",
    "    action, _ = model.predict(obs)\n",
    "    obs, _, _, _ = eval_env.step(action)\n",
    "\n",
    "  # Close the video recorder\n",
    "  eval_env.close()"
   ]
  },
  {
   "cell_type": "code",
   "execution_count": 8,
   "id": "d65bdedb-f620-4866-b24a-db502c7a1e20",
   "metadata": {},
   "outputs": [
    {
     "name": "stdout",
     "output_type": "stream",
     "text": [
      "Track generation: 1111..1393 -> 282-tiles track\n",
      "retry to generate track (normal if there are not manyinstances of this message)\n",
      "Track generation: 1165..1460 -> 295-tiles track\n",
      "Track generation: 1096..1374 -> 278-tiles track\n",
      "Track generation: 1052..1327 -> 275-tiles track\n",
      "Track generation: 1279..1603 -> 324-tiles track\n",
      "Track generation: 1167..1463 -> 296-tiles track\n",
      "Track generation: 1010..1267 -> 257-tiles track\n",
      "retry to generate track (normal if there are not manyinstances of this message)\n",
      "Track generation: 1115..1398 -> 283-tiles track\n",
      "Saving video to /Users/sookim/lecture/RL_toturial_AIAI2022/hw_sol/videos/ppo2-CarRacing-v0-step-0-to-step-5000.mp4\n"
     ]
    }
   ],
   "source": [
    "record_video('CarRacing-v0', model, video_length=5000, prefix='ppo2-CarRacing-v0')"
   ]
  },
  {
   "cell_type": "code",
   "execution_count": 9,
   "id": "575616a9-f693-440a-8558-b37e10e68276",
   "metadata": {},
   "outputs": [
    {
     "data": {
      "text/html": [
       "<video src=\"./videos/ppo2-CarRacing-v0-step-0-to-step-5000.mp4\" controls  >\n",
       "      Your browser does not support the <code>video</code> element.\n",
       "    </video>"
      ],
      "text/plain": [
       "<IPython.core.display.Video object>"
      ]
     },
     "execution_count": 9,
     "metadata": {},
     "output_type": "execute_result"
    }
   ],
   "source": [
    "from IPython.display import Video\n",
    "Video(\"./videos/ppo2-CarRacing-v0-step-0-to-step-5000.mp4\")"
   ]
  },
  {
   "cell_type": "code",
   "execution_count": null,
   "id": "ed548f58-10ca-4846-bb4c-26dca1f60c62",
   "metadata": {},
   "outputs": [],
   "source": []
  },
  {
   "cell_type": "code",
   "execution_count": null,
   "id": "908837d9-ce9f-4adc-8e39-255f38848c84",
   "metadata": {},
   "outputs": [],
   "source": []
  }
 ],
 "metadata": {
  "kernelspec": {
   "display_name": "Python 3 (ipykernel)",
   "language": "python",
   "name": "python3"
  },
  "language_info": {
   "codemirror_mode": {
    "name": "ipython",
    "version": 3
   },
   "file_extension": ".py",
   "mimetype": "text/x-python",
   "name": "python",
   "nbconvert_exporter": "python",
   "pygments_lexer": "ipython3",
   "version": "3.8.12"
  }
 },
 "nbformat": 4,
 "nbformat_minor": 5
}
